{
 "cells": [
  {
   "cell_type": "code",
   "execution_count": 4,
   "metadata": {
    "collapsed": true
   },
   "outputs": [],
   "source": [
    "%matplotlib inline\n",
    "\n",
    "import numpy as np\n",
    "import os\n",
    "import tensorflow as tf\n",
    "from glob import glob\n",
    "import matplotlib.pyplot as plt\n",
    "from IPython.display import clear_output\n",
    "import os\n",
    "\n",
    "os.environ[\"CUDA_DEVICE_ORDER\"]=\"PCI_BUS_ID\"   # see issue #152\n",
    "os.environ[\"CUDA_VISIBLE_DEVICES\"]=\"1\""
   ]
  },
  {
   "cell_type": "code",
   "execution_count": 2,
   "metadata": {
    "collapsed": false
   },
   "outputs": [
    {
     "name": "stdout",
     "output_type": "stream",
     "text": [
      "Successfully downloaded train-images-idx3-ubyte.gz 9912422 bytes.\n",
      "Extracting MNIST_data\\train-images-idx3-ubyte.gz\n",
      "Successfully downloaded train-labels-idx1-ubyte.gz 28881 bytes.\n",
      "Extracting MNIST_data\\train-labels-idx1-ubyte.gz\n",
      "Successfully downloaded t10k-images-idx3-ubyte.gz 1648877 bytes.\n",
      "Extracting MNIST_data\\t10k-images-idx3-ubyte.gz\n",
      "Successfully downloaded t10k-labels-idx1-ubyte.gz 4542 bytes.\n",
      "Extracting MNIST_data\\t10k-labels-idx1-ubyte.gz\n"
     ]
    }
   ],
   "source": [
    "from tensorflow.examples.tutorials.mnist import input_data\n",
    "mnist = input_data.read_data_sets('MNIST_data', validation_size=0)"
   ]
  },
  {
   "cell_type": "code",
   "execution_count": 6,
   "metadata": {
    "collapsed": false
   },
   "outputs": [
    {
     "data": {
      "text/plain": [
       "<matplotlib.image.AxesImage at 0x225244276d8>"
      ]
     },
     "execution_count": 6,
     "metadata": {},
     "output_type": "execute_result"
    },
    {
     "data": {
      "image/png": "[encoded data removed]",
      "text/plain": [
       "<matplotlib.figure.Figure at 0x225243719e8>"
      ]
     },
     "metadata": {},
     "output_type": "display_data"
    }
   ],
   "source": [
    "img = mnist.train.images[2]\n",
    "plt.imshow(img.reshape((28, 28)), cmap='Greys_r')"
   ]
  },
  {
   "cell_type": "code",
   "execution_count": null,
   "metadata": {
    "collapsed": true
   },
   "outputs": [],
   "source": [
    "# Create the model inputs\n",
    "def model_inputs(image_width, image_height, image_channels, embedded_dim):\n",
    "    \"\"\"\n",
    "    Create the model inputs\n",
    "    :param image_width: The input image width\n",
    "    :param image_height: The input image height\n",
    "    :param image_channels: The number of image channels\n",
    "    :param z_dim: The dimension of Z\n",
    "    :return: Tuple of (tensor of real input images, tensor of z data, learning rate)\n",
    "    \"\"\"\n",
    "\n",
    "    real_input_images = tf.placeholder(tf.float32, \\\n",
    "                                       shape=(None,image_width,\\\n",
    "                                              image_height,\\\n",
    "                                              image_channels))\n",
    "    \n",
    "    embedded_data = tf.placeholder(tf.float32, \\\n",
    "                           shape=(None,embedded_dim))\n",
    "    \n",
    "    learning_rate = tf.placeholder(tf.float32, \\\n",
    "                                  shape=None)\n",
    "\n",
    "    target_input_images = tf.placeholder(tf.float32, \\\n",
    "                                        shape=(None,image_width,\\\n",
    "                                              image_height,\\\n",
    "                                              image_channels))\n",
    "    return real_input_images, embedded_data, learning_rate, target_input_images"
   ]
  },
  {
   "cell_type": "code",
   "execution_count": 7,
   "metadata": {
    "collapsed": true
   },
   "outputs": [],
   "source": [
    "def leaky_relu(x, alpha=0.1, name='leaky_relu'):\n",
    "            return tf.maximum(x, alpha * x, name=name)"
   ]
  },
  {
   "cell_type": "code",
   "execution_count": null,
   "metadata": {
    "collapsed": true
   },
   "outputs": [],
   "source": [
    "# encoding network\n",
    "def encoder(images, reuse=False):\n",
    "    \"\"\"\n",
    "    Create the discriminator network\n",
    "    :param image: Tensor of input image(s)\n",
    "    :param reuse: Boolean if the weights should be reused\n",
    "    :return: Tuple of (tensor output of the discriminator, tensor logits of the discriminator)\n",
    "    \"\"\"\n",
    "\n",
    "    #TODO Batch Normalization\n",
    "    \n",
    "    with tf.variable_scope('encoder', reuse=reuse):\n",
    "        # Input layer is 28x28x1\n",
    "        conv1 = tf.layers.conv2d(images, 64, 5, strides=2, padding='same',\\\n",
    "                                kernel_initializer=tf.contrib.layers.xavier_initializer())\n",
    "        relu1 = leaky_relu(conv1)\n",
    "        # 14x14x64\n",
    "        \n",
    "        conv2 = tf.layers.conv2d(relu1, 128, 5, strides=2, padding='same',\\\n",
    "                                kernel_initializer=tf.contrib.layers.xavier_initializer())\n",
    "        bn2 = tf.layers.batch_normalization(conv2, training=True)\n",
    "        relu2 = leaky_relu(bn2)\n",
    "        # 7x7x128\n",
    "        \n",
    "        conv3 = tf.layers.conv2d(relu2, 256, 5, strides=1, padding='same',\\\n",
    "                                kernel_initializer=tf.contrib.layers.xavier_initializer())\n",
    "        bn3 = tf.layers.batch_normalization(conv3, training=True)\n",
    "        relu3 = leaky_relu(bn3)\n",
    "        #7x7x256\n",
    "        \n",
    "        # Flatten it\n",
    "        flat = tf.reshape(relu2, (-1, 7*7*256))\n",
    "        \n",
    "        # Dropout\n",
    "        dropout = tf.nn.dropout(flat,0.8)\n",
    "        \n",
    "        # Logits\n",
    "        logits = tf.layers.dense(dropout, 1,\\\n",
    "                                kernel_initializer=tf.contrib.layers.xavier_initializer())\n",
    "        out = tf.sigmoid(logits)\n",
    "        \n",
    "        \n",
    "        \n",
    "    return out, logits"
   ]
  },
  {
   "cell_type": "code",
   "execution_count": null,
   "metadata": {
    "collapsed": true
   },
   "outputs": [],
   "source": [
    "# Generator\n",
    "def generator(z, out_channel_dim, is_train=True):\n",
    "    \"\"\"\n",
    "    Create the generator network\n",
    "    :param z: Input z\n",
    "    :param out_channel_dim: The number of channels in the output image\n",
    "    :param is_train: Boolean if generator is being used for training\n",
    "    :return: The tensor output of the generator\n",
    "    \"\"\"\n",
    "    \n",
    "    with tf.variable_scope('generator', reuse=not is_train):\n",
    "        # First fully connected layer\n",
    "        x1 = tf.layers.dense(z, 7*7*512,\\\n",
    "                                kernel_initializer=tf.contrib.layers.xavier_initializer())\n",
    "        \n",
    "        # Reshape it to start the convolutional stack\n",
    "        x1 = tf.reshape(x1, (-1, 7, 7, 512))\n",
    "        x1 = tf.layers.batch_normalization(x1, training=is_train)\n",
    "        x1 = leaky_relu(x1)\n",
    "        x1 = tf.nn.dropout(x1,0.5)\n",
    "        # 7x7x512 now\n",
    "        \n",
    "        x2 = tf.layers.conv2d_transpose(x1, 256, 5, strides=2, padding='same',\\\n",
    "                                kernel_initializer=tf.contrib.layers.xavier_initializer())\n",
    "        x2 = tf.layers.batch_normalization(x2, training=is_train)\n",
    "        x2 = leaky_relu(x2)\n",
    "        x2 = tf.nn.dropout(x2,0.5)\n",
    "        # 14x14x256 now\n",
    "        \n",
    "        x3 = tf.layers.conv2d_transpose(x2, 128, 5, strides=2, padding='same',\\\n",
    "                                kernel_initializer=tf.contrib.layers.xavier_initializer())\n",
    "        x3 = tf.layers.batch_normalization(x3, training=is_train)\n",
    "        x3 = leaky_relu(x3)\n",
    "        x3 = tf.nn.dropout(x3,0.5)\n",
    "        # 28x28x256 now\n",
    "        \n",
    "        # Output layer\n",
    "        logits = tf.layers.conv2d_transpose(x3, out_channel_dim, 5, strides=1, padding='same',\\\n",
    "                                kernel_initializer=tf.contrib.layers.xavier_initializer())\n",
    "        # 28x28x3 now\n",
    "        \n",
    "        out = tf.tanh(logits)\n",
    "    \n",
    "    return out"
   ]
  },
  {
   "cell_type": "code",
   "execution_count": null,
   "metadata": {
    "collapsed": true
   },
   "outputs": [],
   "source": [
    "# Descriminator\n",
    "def descriminator(z, out_channel_dim, is_train=True):\n",
    "    \"\"\"\n",
    "    Create the generator network\n",
    "    :param z: Input z\n",
    "    :param out_channel_dim: The number of channels in the output image\n",
    "    :param is_train: Boolean if generator is being used for training\n",
    "    :return: The tensor output of the generator\n",
    "    \"\"\"\n",
    "    \n",
    "    with tf.variable_scope('generator', reuse=not is_train):\n",
    "        # First fully connected layer\n",
    "        x1 = tf.layers.dense(z, 7*7*512,\\\n",
    "                                kernel_initializer=tf.contrib.layers.xavier_initializer())\n",
    "        \n",
    "        # Reshape it to start the convolutional stack\n",
    "        x1 = tf.reshape(x1, (-1, 7, 7, 512))\n",
    "        x1 = tf.layers.batch_normalization(x1, training=is_train)\n",
    "        x1 = leaky_relu(x1)\n",
    "        x1 = tf.nn.dropout(x1,0.5)\n",
    "        # 7x7x512 now\n",
    "        \n",
    "        x2 = tf.layers.conv2d_transpose(x1, 256, 5, strides=2, padding='same',\\\n",
    "                                kernel_initializer=tf.contrib.layers.xavier_initializer())\n",
    "        x2 = tf.layers.batch_normalization(x2, training=is_train)\n",
    "        x2 = leaky_relu(x2)\n",
    "        x2 = tf.nn.dropout(x2,0.5)\n",
    "        # 14x14x256 now\n",
    "        \n",
    "        x3 = tf.layers.conv2d_transpose(x2, 128, 5, strides=2, padding='same',\\\n",
    "                                kernel_initializer=tf.contrib.layers.xavier_initializer())\n",
    "        x3 = tf.layers.batch_normalization(x3, training=is_train)\n",
    "        x3 = leaky_relu(x3)\n",
    "        x3 = tf.nn.dropout(x3,0.5)\n",
    "        # 28x28x256 now\n",
    "        \n",
    "        # Output layer\n",
    "        logits = tf.layers.conv2d_transpose(x3, out_channel_dim, 5, strides=1, padding='same',\\\n",
    "                                kernel_initializer=tf.contrib.layers.xavier_initializer())\n",
    "        # 28x28x3 now\n",
    "        \n",
    "        out = tf.tanh(logits)\n",
    "    \n",
    "    return out"
   ]
  },
  {
   "cell_type": "code",
   "execution_count": null,
   "metadata": {
    "collapsed": true
   },
   "outputs": [],
   "source": [
    "# Classifier\n",
    "def classifier(z, out_channel_dim, is_train=True):\n",
    "    \"\"\"\n",
    "    Create the generator network\n",
    "    :param z: Input z\n",
    "    :param out_channel_dim: The number of channels in the output image\n",
    "    :param is_train: Boolean if generator is being used for training\n",
    "    :return: The tensor output of the generator\n",
    "    \"\"\"\n",
    "    \n",
    "    with tf.variable_scope('generator', reuse=not is_train):\n",
    "        # First fully connected layer\n",
    "        x1 = tf.layers.dense(z, 7*7*512,\\\n",
    "                                kernel_initializer=tf.contrib.layers.xavier_initializer())\n",
    "        \n",
    "        # Reshape it to start the convolutional stack\n",
    "        x1 = tf.reshape(x1, (-1, 7, 7, 512))\n",
    "        x1 = tf.layers.batch_normalization(x1, training=is_train)\n",
    "        x1 = leaky_relu(x1)\n",
    "        x1 = tf.nn.dropout(x1,0.5)\n",
    "        # 7x7x512 now\n",
    "        \n",
    "        x2 = tf.layers.conv2d_transpose(x1, 256, 5, strides=2, padding='same',\\\n",
    "                                kernel_initializer=tf.contrib.layers.xavier_initializer())\n",
    "        x2 = tf.layers.batch_normalization(x2, training=is_train)\n",
    "        x2 = leaky_relu(x2)\n",
    "        x2 = tf.nn.dropout(x2,0.5)\n",
    "        # 14x14x256 now\n",
    "        \n",
    "        x3 = tf.layers.conv2d_transpose(x2, 128, 5, strides=2, padding='same',\\\n",
    "                                kernel_initializer=tf.contrib.layers.xavier_initializer())\n",
    "        x3 = tf.layers.batch_normalization(x3, training=is_train)\n",
    "        x3 = leaky_relu(x3)\n",
    "        x3 = tf.nn.dropout(x3,0.5)\n",
    "        # 28x28x256 now\n",
    "        \n",
    "        # Output layer\n",
    "        logits = tf.layers.conv2d_transpose(x3, out_channel_dim, 5, strides=1, padding='same',\\\n",
    "                                kernel_initializer=tf.contrib.layers.xavier_initializer())\n",
    "        # 28x28x3 now\n",
    "        \n",
    "        out = tf.tanh(logits)\n",
    "    \n",
    "    return out"
   ]
  },
  {
   "cell_type": "code",
   "execution_count": null,
   "metadata": {
    "collapsed": true
   },
   "outputs": [],
   "source": [
    "def model_loss(input_real, input_z, out_channel_dim, target_real):\n",
    "    \"\"\"\n",
    "    Get the loss for the discriminator and generator\n",
    "    :param input_real: Images from the real dataset\n",
    "    :param input_z: Z input\n",
    "    :param out_channel_dim: The number of channels in the output image\n",
    "    :return: A tuple of (discriminator loss, generator loss)\n",
    "    \"\"\"\n",
    "    smooth = 0.1\n",
    "    \n",
    "    # generator for fake images\n",
    "    g_logits = generator(input_z, out_channel_dim, is_train=True, reuse=True)\n",
    "    \n",
    "    # encoder for real and faked images\n",
    "    e_model_real, e_logits_real = encoder(input_real, reuse=False)\n",
    "    e_model_fake, e_logits_fake = encoder(g_logits, reuse=True)\n",
    "    \n",
    "    # descriminator for real and faked images\n",
    "    d_model_real, d_logits_real = discriminator(e_model_encoder_real, reuse=False)\n",
    "    d_model_fake, d_logits_fake = discriminator(e_model_encoder_fake, reuse=True)\n",
    "    \n",
    "    # classifier\n",
    "    c_model_real, c_logits_real = classifier(e_model_encoder_real, reuse=False)\n",
    "    c_model_fake, c_logits_fake = classifier(e_model_encoder_fake, reuse=True)\n",
    "    \n",
    "    # autoencoder\n",
    "    a_model_real, a_logits_real = generator(e_logits_real, reuse=True)\n",
    "    \n",
    "    # descriminator loss\n",
    "    d_loss_real = tf.reduce_mean(tf.nn.sigmoid_cross_entropy_with_logits(logits=d_logits_real, \\\n",
    "                                                labels=tf.ones_like(d_model_real) * (1-smooth)))\n",
    "    d_loss_fake = tf.reduce_mean(tf.nn.sigmoid_cross_entropy_with_logits(logits=d_logits_fake, \\\n",
    "                                                labels=tf.zeros_like(d_model_fake)))\n",
    "    d_loss = d_loss_real + d_loss_fake\n",
    "    \n",
    "    # generator loss\n",
    "    # fake comparing descriminator with '1'\n",
    "    g_loss_fake = tf.reduce_mean(\n",
    "        tf.nn.sigmoid_cross_entropy_with_logits(logits=d_logits_fake, labels=tf.ones_like(d_model_fake)))\n",
    "    # real comparing input_real with autoencoder image\n",
    "    g_loss_real = tf.nn.cross_entropy_with_logits(labels=target_real, logits=a_logits_real)\n",
    "    g_cost_real = tf.reduce_mean(g_loss_real)\n",
    "    \n",
    "    g_loss = g_loss_fake + g_loss_real\n",
    "    \n",
    "    #TODO Classifier loss\n",
    "    \n",
    "    return d_loss, g_loss_fake, g_loss_real"
   ]
  },
  {
   "cell_type": "code",
   "execution_count": null,
   "metadata": {
    "collapsed": true
   },
   "outputs": [],
   "source": [
    "def model_opt(d_loss, g_loss, e_loss, c_loss, learning_rate, beta1):\n",
    "    \"\"\"\n",
    "    Get optimization operations\n",
    "    :param d_loss: Discriminator loss Tensor\n",
    "    :param g_loss: Generator loss Tensor\n",
    "    :param learning_rate: Learning Rate Placeholder\n",
    "    :param beta1: The exponential decay rate for the 1st moment in the optimizer\n",
    "    :return: A tuple of (discriminator training operation, generator training operation)\n",
    "    \"\"\"\n",
    "    # Get weights and bias to update\n",
    "    t_vars = tf.trainable_variables()\n",
    "    d_vars = [var for var in t_vars if var.name.startswith('discriminator')]\n",
    "    g_vars = [var for var in t_vars if var.name.startswith('generator')]\n",
    "    e_vars = [var for var in t_vars if var.name.startswith('encoder')]\n",
    "    c_vars = [var for var in t_vars if var.name.startswith('classifier')]\n",
    "    \n",
    "    # Optimize\n",
    "    with tf.control_dependencies(tf.get_collection(tf.GraphKeys.UPDATE_OPS)):\n",
    "        d_train_opt = tf.train.AdamOptimizer(learning_rate, beta1=beta1).minimize(d_loss, var_list=d_vars)\n",
    "        g_train_opt = tf.train.AdamOptimizer(learning_rate, beta1=beta1).minimize(g_loss, var_list=g_vars)\n",
    "        e_train_opt = tf.train.AdamOptimizer(learning_rate, beta1=beta1).minimize(e_loss, var_list=d_vars)\n",
    "        c_train_opt = tf.train.AdamOptimizer(learning_rate, beta1=beta1).minimize(c_loss, var_list=g_vars)\n",
    "\n",
    "    return d_train_opt, g_train_opt, e_train_opt, c_train_opt"
   ]
  },
  {
   "cell_type": "code",
   "execution_count": null,
   "metadata": {
    "collapsed": true
   },
   "outputs": [],
   "source": [
    "def show_generator_output(sess, n_images, input_z, out_channel_dim, image_mode):\n",
    "    \"\"\"\n",
    "    Show example output for the generator\n",
    "    :param sess: TensorFlow session\n",
    "    :param n_images: Number of Images to display\n",
    "    :param input_z: Input Z Tensor\n",
    "    :param out_channel_dim: The number of channels in the output image\n",
    "    :param image_mode: The mode to use for images (\"RGB\" or \"L\")\n",
    "    \"\"\"\n",
    "    clear_output()\n",
    "    cmap = None if image_mode == 'RGB' else 'gray'\n",
    "    z_dim = input_z.get_shape().as_list()[-1]\n",
    "#     example_z = np.random.uniform(-1, 1, size=[n_images, z_dim])\n",
    "    example_z = np.random.normal(0.,1.,size=[n_images, z_dim])\n",
    "    samples = sess.run(\n",
    "        generator(input_z, out_channel_dim, False),\n",
    "        feed_dict={input_z: example_z})\n",
    "\n",
    "    images_grid = helper.images_square_grid(samples, image_mode)\n",
    "    pyplot.imshow(images_grid, cmap=cmap)\n",
    "    pyplot.show()"
   ]
  }
 ],
 "metadata": {
  "anaconda-cloud": {},
  "kernelspec": {
   "display_name": "Python [conda root]",
   "language": "python",
   "name": "conda-root-py"
  },
  "language_info": {
   "codemirror_mode": {
    "name": "ipython",
    "version": 3
   },
   "file_extension": ".py",
   "mimetype": "text/x-python",
   "name": "python",
   "nbconvert_exporter": "python",
   "pygments_lexer": "ipython3",
   "version": "3.5.2"
  }
 },
 "nbformat": 4,
 "nbformat_minor": 1
}
